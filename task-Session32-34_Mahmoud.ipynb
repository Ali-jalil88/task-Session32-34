{
 "cells": [
  {
   "cell_type": "markdown",
   "id": "f205e2f1-f66b-4721-be5c-8b75ba590514",
   "metadata": {},
   "source": [
    "## 1 - create new db projects (sqlite,mysql)\n",
    "## 1.1 - using python + peewee : \n",
    "##   2 - create Cateogry table (name)\n",
    "##   3 - create Client table (first_name,last_name,phone,address,email)\n",
    "##    4 - create Project table (name,duration(days),client(relation),category(relation))\n",
    "##    4.1.2.3 - insert new (client , category , project )\n",
    "##    5.1.2.3 - create dummy data using website (20 projects(file) , 5 category(file) , 20 client(file)) as json or csv \n",
    "##    6.1.2.3- insert data from file into db (category ,client , project)\n",
    "## - answer this questions :\n",
    "##    7 - how many project for each client\n",
    "##    8 - how many project in each category\n",
    "##    9 - how many project we have with duaration > 30 day\n",
    "##   10- what is the first project to finish\n",
    "##   11- what is the last project to finish\n",
    "\n",
    "has context menu"
   ]
  },
  {
   "cell_type": "markdown",
   "id": "12789911-08ff-41db-8d6b-8a372393480d",
   "metadata": {},
   "source": [
    "## 1 - create new db projects (sqlite,mysql)\n",
    "## 1.1 - using python + peewee : "
   ]
  },
  {
   "cell_type": "code",
   "execution_count": 1,
   "id": "2a605b5e-26e3-4593-b0bd-7e5fd8363ef1",
   "metadata": {},
   "outputs": [
    {
     "name": "stdout",
     "output_type": "stream",
     "text": [
      "connect\n"
     ]
    }
   ],
   "source": [
    "from peewee import *\n",
    "db =MySQLDatabase(\n",
    "    \"projects\",\n",
    "    user = \"root\",\n",
    "    password = \"1988\",\n",
    "    host = \"localhost\"\n",
    ")\n",
    "db.connect()\n",
    "print(\"connect\")"
   ]
  },
  {
   "cell_type": "markdown",
   "id": "f5de2abd-9d82-4f11-92e5-e79a6d037453",
   "metadata": {},
   "source": [
    "## 2 - create Cateogry table (name)"
   ]
  },
  {
   "cell_type": "code",
   "execution_count": 5,
   "id": "5acb717b-31e4-4122-9887-bbde237636ea",
   "metadata": {},
   "outputs": [],
   "source": [
    "class Category(Model):\n",
    "    id = AutoField()\n",
    "    name = CharField()\n",
    "    class Meta:\n",
    "        database = db # create table on db \n",
    "db.create_tables([Category])"
   ]
  },
  {
   "cell_type": "markdown",
   "id": "51d4a5ac-68a4-4e62-bc72-4acd039db1bd",
   "metadata": {},
   "source": [
    "##   3 - create Client table (first_name,last_name,phone,address,email)"
   ]
  },
  {
   "cell_type": "code",
   "execution_count": 6,
   "id": "1a7e7ece-e68a-4f09-b3e1-2d593999922c",
   "metadata": {},
   "outputs": [],
   "source": [
    "class Client(Model):\n",
    "    id = AutoField()\n",
    "    first_name = CharField()\n",
    "    last_name = CharField()\n",
    "    phone = TextField()\n",
    "    address = TextField()\n",
    "    email = TextField()\n",
    "    class Meta:\n",
    "        database = db # create table on db \n",
    "db.create_tables([Client])"
   ]
  },
  {
   "cell_type": "markdown",
   "id": "0b1a8b42-a1a8-4b6b-9980-c7bdf621b423",
   "metadata": {},
   "source": [
    "## 4 - create Project table (name,duration(days),client(relation),category(relation))"
   ]
  },
  {
   "cell_type": "code",
   "execution_count": 7,
   "id": "3d549f9e-8c37-4967-8176-84ea4e9a9501",
   "metadata": {},
   "outputs": [],
   "source": [
    "class Project(Model):\n",
    "    id = AutoField()\n",
    "    name = CharField()\n",
    "    duration_days = IntegerField()\n",
    "    client = ForeignKeyField( Client , backref='Client')# client(relation)\n",
    "    category = ForeignKeyField( Category , backref='Category') # category(relation)\n",
    "    class Meta:\n",
    "        database = db # create table on db \n",
    "db.create_tables([Project])"
   ]
  },
  {
   "cell_type": "markdown",
   "id": "b1cb8f50-d7a3-4fd0-9d5b-87ed2be86273",
   "metadata": {},
   "source": [
    "## 4 (4.1) - insert new (client)"
   ]
  },
  {
   "cell_type": "code",
   "execution_count": 8,
   "id": "74c9be75-a3b4-46e2-aec6-af4d33381d54",
   "metadata": {},
   "outputs": [],
   "source": [
    "client = [\n",
    "    ['Ali' ,'aLi', '0176559632','Dresden','ali.ali@gmail.com'] , \n",
    "    ['Ali1' ,'aLi1', '0176559623','Dresden1','ali1.ali@gmail.com'] \n",
    " ]\n",
    "for x in client:\n",
    "    Client.create(first_name=x[0],last_name=x[1],phone=x[2],address=x[3],email=x[4] )"
   ]
  },
  {
   "cell_type": "markdown",
   "id": "086cb2e1-6a50-4194-822d-322057c9155e",
   "metadata": {},
   "source": [
    "## 4 (4.2) - insert new ( category )"
   ]
  },
  {
   "cell_type": "code",
   "execution_count": 9,
   "id": "00eca2f5-5ac0-42ba-8089-1a75a1f2d1e8",
   "metadata": {},
   "outputs": [],
   "source": [
    "category = [\n",
    "    ['aLi_cateogry1'] , \n",
    "    ['aLi1_cateogry2'] \n",
    " ]\n",
    "for x in category:\n",
    "    Category.create(name = x[0])"
   ]
  },
  {
   "cell_type": "markdown",
   "id": "37b86858-446f-4caf-af81-637a110bd53b",
   "metadata": {},
   "source": [
    "## 4 (4.3) - insert new ( project )"
   ]
  },
  {
   "cell_type": "code",
   "execution_count": 10,
   "id": "45ba2e7e-a2ff-43bd-9855-2f2f3718b932",
   "metadata": {},
   "outputs": [],
   "source": [
    "project = [\n",
    "    ['Ali_ali1' , 1 , 1 , 1 ] , \n",
    "    ['Ali1_ali2' , 2 , 2 , 2] \n",
    " ]\n",
    "for x in project:\n",
    "    f = Client.get(Client.id == x[2])\n",
    "    c = Category.get(Category.id == x[3])\n",
    "    Project.create(name=x[0],duration_days=x[1], client = f , category = c)"
   ]
  },
  {
   "cell_type": "markdown",
   "id": "459e7e8e-7bfd-4882-8c4f-0f2302bf2412",
   "metadata": {},
   "source": [
    "## 5.1.2.3 - create dummy data using website (20 projects(file) , 5 category(file) , 20 client(file)) as json or csv"
   ]
  },
  {
   "cell_type": "markdown",
   "id": "8c330b0e-56fd-4ef7-b11d-ef60acf4e87b",
   "metadata": {},
   "source": [
    "## 5.2 -insert dummy file category(5-file)\n",
    "## -6.2- insert data from file into db (category )"
   ]
  },
  {
   "cell_type": "code",
   "execution_count": 12,
   "id": "4894277f-e7f2-4e79-ace8-318770ea24e9",
   "metadata": {},
   "outputs": [],
   "source": [
    "import json\n",
    "f = open('category_DATA.json')\n",
    "data = json.load(f)\n",
    " # insert 10 product using build insert \n",
    "for p in data:\n",
    "      Category.create(**p)"
   ]
  },
  {
   "cell_type": "markdown",
   "id": "e7585c23-e9ab-4d53-9c81-112ebf077f90",
   "metadata": {},
   "source": [
    "## 5.3-insert dummy file client(20-file))\n",
    "## - 6.3- insert data from file into db (client )"
   ]
  },
  {
   "cell_type": "code",
   "execution_count": 13,
   "id": "20c9a93e-6469-4108-88df-38d5565a53fd",
   "metadata": {},
   "outputs": [],
   "source": [
    "import json\n",
    "f = open('client_DATA.json')\n",
    "data = json.load(f)\n",
    "for p in data:\n",
    "      Client.create(**p)"
   ]
  },
  {
   "cell_type": "markdown",
   "id": "3e761066-830d-4766-b177-fc4cca136fe3",
   "metadata": {},
   "source": [
    "## 5.1- insert dummy file projects(20-file)\n",
    "## - 6.1- insert data from file into db (project)"
   ]
  },
  {
   "cell_type": "code",
   "execution_count": 16,
   "id": "ee3bb9d0-ee31-4440-b112-bd706e87b4ab",
   "metadata": {},
   "outputs": [],
   "source": [
    "import json\n",
    "import random\n",
    "f = open('project_DATA.json')\n",
    "data = json.load(f)\n",
    "for p in data:\n",
    "    Project.create(\n",
    "          name = p['name'],\n",
    "          duration_days = p['duration_days'],\n",
    "          # client = Client.get(p['client_id']),\n",
    "          client = Client.get(p['client_id']) if p['client_id'] <= 22 else Client.get(random.randint(1,22)),\n",
    "          category = Category.get(p['category_id']) if p['category_id'] <= 7 else Category.get(random.randint(1,7))\n",
    "\n",
    "          # category = Category.get(p['category_id'])\n",
    "          )"
   ]
  },
  {
   "cell_type": "markdown",
   "id": "eae07bb3-4105-4176-a925-09e3de010dd7",
   "metadata": {},
   "source": [
    "## 7 - how many project for each client"
   ]
  },
  {
   "cell_type": "code",
   "execution_count": 50,
   "id": "a68af459-5675-40db-91a2-1cd4e1ff7a6c",
   "metadata": {},
   "outputs": [
    {
     "name": "stdout",
     "output_type": "stream",
     "text": [
      "[('Ali', 3), ('Ali1', 3), ('Belva', 2), ('Belia', 2), ('Brian', 2), ('Gweneth', 2), ('Lenci', 2), ('Cacilia', 1), ('Bonnibelle', 1), ('Karolina', 1), ('Archibaldo', 1), ('Andrei', 1), ('Darcey', 1), ('Gonzales', 1), ('Myrah', 1), ('Cchaddie', 1), ('Benedicta', 1), ('Rocky', 1), ('Elisha', 1), ('Randi', 1), ('Jarvis', 0), ('Charisse', 0)]\n"
     ]
    }
   ],
   "source": [
    "# data = db.execute_sql('''select name , count(id) as count \n",
    "# from project\n",
    "# GROUP BY client_id ''')\n",
    "# print(list(data))\n",
    "\n",
    "data = db.execute_sql('''SELECT c.first_name AS client_name, COUNT(p.id) AS project_count\n",
    "FROM Client c\n",
    "LEFT JOIN Project p ON c.id = p.client_id\n",
    "GROUP BY c.first_name; ''' )\n",
    "print(list(data))"
   ]
  },
  {
   "cell_type": "markdown",
   "id": "fe3980b6-87e5-4d71-b8de-e18af81d8604",
   "metadata": {},
   "source": [
    "## 8 - how many project in each category"
   ]
  },
  {
   "cell_type": "code",
   "execution_count": 49,
   "id": "a611bdd1-e290-480a-ab93-bed5c48f9063",
   "metadata": {},
   "outputs": [
    {
     "name": "stdout",
     "output_type": "stream",
     "text": [
      "[('aLi_cateogry1', 5), ('aLi1_cateogry2', 5), ('Electrical', 5), ('Drywall & Acoustical (MOB)', 2), ('Drywall & Acoustical (FED)', 5), ('Retaining Wall and Brick Pavers', 4), ('Prefabricated Aluminum Metal Canopies', 3)]\n"
     ]
    }
   ],
   "source": [
    "# data = db.execute_sql('''select name , count(*) \n",
    "# from project\n",
    "# GROUP BY category_id ''')\n",
    "# print(list(data))\n",
    "\n",
    "data = db.execute_sql('''SELECT c.name AS category_name, COUNT(p.id) AS project_count\n",
    "FROM Category c\n",
    "LEFT JOIN Project p ON c.id = p.category_id\n",
    "GROUP BY c.name; ''' )\n",
    "print(list(data))\n"
   ]
  },
  {
   "cell_type": "markdown",
   "id": "45223945-ae28-4c71-b94d-363bce842656",
   "metadata": {},
   "source": [
    "##  9 - how many project we have with duaration > 30 day"
   ]
  },
  {
   "cell_type": "code",
   "execution_count": 60,
   "id": "b31dd51a-d2e4-4f86-9553-d4713362650b",
   "metadata": {},
   "outputs": [
    {
     "name": "stdout",
     "output_type": "stream",
     "text": [
      "[<Project: 20>, <Project: 21>, <Project: 22>, <Project: 23>, <Project: 24>, <Project: 25>, <Project: 26>, <Project: 27>, <Project: 28>, <Project: 29>]\n"
     ]
    }
   ],
   "source": [
    "# data = db.execute_sql('''select * from project\n",
    "# where duration_days > 10 ''')\n",
    "# print(list(data))\n",
    "query = Project.select().where(Project.duration_days > 10)\n",
    "query.execute()\n",
    "print(list(query))"
   ]
  },
  {
   "cell_type": "markdown",
   "id": "a827ba55-d780-4f55-9fd9-ec8127888de9",
   "metadata": {},
   "source": [
    "## 10 - what is the first project to finish ( with peewee )"
   ]
  },
  {
   "cell_type": "code",
   "execution_count": 66,
   "id": "f14a48d1-b510-461e-b9e6-48e967d3e292",
   "metadata": {},
   "outputs": [
    {
     "name": "stdout",
     "output_type": "stream",
     "text": [
      "Ali_ali1\n",
      "Ali1_ali2\n",
      "Aurillac Airport\n",
      "Birmingham International Airport\n",
      "Birmingham International Airport\n",
      "Cambridge Bay Airport\n",
      "Cambridge Bay Airport\n",
      "Earl Henry Airport\n",
      "Edmonton City Centre (Blatchford Field) Airport\n",
      "Edmonton City Centre (Blatchford Field) Airport\n",
      "Edson Airport\n",
      "Edson Airport\n",
      "Fair Isle Airport\n",
      "Francisco BeltrÃ£o Airport\n",
      "Hsinchu Air Base\n",
      "Jask Airport\n",
      "Kornasoren Airfield\n",
      "Kratie Airport\n",
      "Mondell Field\n",
      "Mondell Field\n",
      "New Castle Airport\n",
      "Newport News Williamsburg International Airport\n",
      "Norman Wells Airport\n",
      "Okondja Airport\n",
      "Ormoc Airport\n",
      "Ormoc Airport\n",
      "Sheremetyevo International Airport\n",
      "Sheremetyevo International Airport\n",
      "Wales Airport\n"
     ]
    }
   ],
   "source": [
    "# ORDER BY category DESC-desc\n",
    "# ORDER BY category ASC-asc\n",
    "# query = Project.select().ORDER BY project DESC # what is the first project to finish\n",
    "# query.execute()\n",
    "# print(list(query))\n",
    "data = Project.select().order_by(Project.name.asc())\n",
    "for x in data:\n",
    "    print(x.name)\n"
   ]
  },
  {
   "cell_type": "markdown",
   "id": "7e315821-8cfb-40c0-9e0c-8e4bed46ac64",
   "metadata": {},
   "source": [
    "## 11 - what is the last project to finish ( with peewee )"
   ]
  },
  {
   "cell_type": "code",
   "execution_count": 65,
   "id": "4cf21292-f2e3-4cde-a15a-e962a4a1c95f",
   "metadata": {},
   "outputs": [
    {
     "name": "stdout",
     "output_type": "stream",
     "text": [
      "Wales Airport\n",
      "Sheremetyevo International Airport\n",
      "Sheremetyevo International Airport\n",
      "Ormoc Airport\n",
      "Ormoc Airport\n",
      "Okondja Airport\n",
      "Norman Wells Airport\n",
      "Newport News Williamsburg International Airport\n",
      "New Castle Airport\n",
      "Mondell Field\n",
      "Mondell Field\n",
      "Kratie Airport\n",
      "Kornasoren Airfield\n",
      "Jask Airport\n",
      "Hsinchu Air Base\n",
      "Francisco BeltrÃ£o Airport\n",
      "Fair Isle Airport\n",
      "Edson Airport\n",
      "Edson Airport\n",
      "Edmonton City Centre (Blatchford Field) Airport\n",
      "Edmonton City Centre (Blatchford Field) Airport\n",
      "Earl Henry Airport\n",
      "Cambridge Bay Airport\n",
      "Cambridge Bay Airport\n",
      "Birmingham International Airport\n",
      "Birmingham International Airport\n",
      "Aurillac Airport\n",
      "Ali1_ali2\n",
      "Ali_ali1\n"
     ]
    }
   ],
   "source": [
    "data = Project.select().order_by(Project.name.desc())\n",
    "for x in data:\n",
    "    print(x.name)"
   ]
  },
  {
   "cell_type": "code",
   "execution_count": null,
   "id": "6616fb9b-d7a7-4d85-8f24-de4411c6f1e0",
   "metadata": {},
   "outputs": [],
   "source": []
  }
 ],
 "metadata": {
  "kernelspec": {
   "display_name": "Python 3 (ipykernel)",
   "language": "python",
   "name": "python3"
  },
  "language_info": {
   "codemirror_mode": {
    "name": "ipython",
    "version": 3
   },
   "file_extension": ".py",
   "mimetype": "text/x-python",
   "name": "python",
   "nbconvert_exporter": "python",
   "pygments_lexer": "ipython3",
   "version": "3.12.4"
  }
 },
 "nbformat": 4,
 "nbformat_minor": 5
}
